{
 "cells": [
  {
   "cell_type": "markdown",
   "id": "77f63d33",
   "metadata": {},
   "source": [
    "# Random seeds\n",
    "## Random seed and sampling"
   ]
  },
  {
   "cell_type": "code",
   "execution_count": 4,
   "id": "993bed44",
   "metadata": {},
   "outputs": [
    {
     "data": {
      "text/html": [
       "<style>\n",
       ".list-inline {list-style: none; margin:0; padding: 0}\n",
       ".list-inline>li {display: inline-block}\n",
       ".list-inline>li:not(:last-child)::after {content: \"\\00b7\"; padding: 0 .5ex}\n",
       "</style>\n",
       "<ol class=list-inline><li>0</li><li>7</li><li>1</li><li>4</li><li>3</li></ol>\n"
      ],
      "text/latex": [
       "\\begin{enumerate*}\n",
       "\\item 0\n",
       "\\item 7\n",
       "\\item 1\n",
       "\\item 4\n",
       "\\item 3\n",
       "\\end{enumerate*}\n"
      ],
      "text/markdown": [
       "1. 0\n",
       "2. 7\n",
       "3. 1\n",
       "4. 4\n",
       "5. 3\n",
       "\n",
       "\n"
      ],
      "text/plain": [
       "[1] 0 7 1 4 3"
      ]
     },
     "metadata": {},
     "output_type": "display_data"
    }
   ],
   "source": [
    "#Create a vector containing the numbers 0 to 10\n",
    "numb_vec <- 0:9\n",
    "#Randomly sample 5 of these numbers\n",
    "sample(x = numb_vec, size = 5)"
   ]
  },
  {
   "cell_type": "code",
   "execution_count": 5,
   "id": "c508a060",
   "metadata": {},
   "outputs": [
    {
     "data": {
      "text/html": [
       "<style>\n",
       ".list-inline {list-style: none; margin:0; padding: 0}\n",
       ".list-inline>li {display: inline-block}\n",
       ".list-inline>li:not(:last-child)::after {content: \"\\00b7\"; padding: 0 .5ex}\n",
       "</style>\n",
       "<ol class=list-inline><li>0</li><li>2</li><li>6</li><li>3</li><li>7</li></ol>\n"
      ],
      "text/latex": [
       "\\begin{enumerate*}\n",
       "\\item 0\n",
       "\\item 2\n",
       "\\item 6\n",
       "\\item 3\n",
       "\\item 7\n",
       "\\end{enumerate*}\n"
      ],
      "text/markdown": [
       "1. 0\n",
       "2. 2\n",
       "3. 6\n",
       "4. 3\n",
       "5. 7\n",
       "\n",
       "\n"
      ],
      "text/plain": [
       "[1] 0 2 6 3 7"
      ]
     },
     "metadata": {},
     "output_type": "display_data"
    }
   ],
   "source": [
    "#Randomly sample 5 of these numbers with replacement\n",
    "sample(x = numb_vec, size = 5, replace = TRUE)"
   ]
  },
  {
   "cell_type": "code",
   "execution_count": 6,
   "id": "af8202a5",
   "metadata": {},
   "outputs": [],
   "source": [
    "#Randomly sample 15 of these numbers with replacement\n",
    "#THis will not work\n",
    "#sample(x = numb_vec, size = 15, replace = FALSE)"
   ]
  },
  {
   "cell_type": "markdown",
   "id": "ef13d683",
   "metadata": {},
   "source": [
    "## R and random seeds"
   ]
  },
  {
   "cell_type": "code",
   "execution_count": 7,
   "id": "cabf6770",
   "metadata": {},
   "outputs": [
    {
     "data": {
      "text/html": [
       "<style>\n",
       ".list-inline {list-style: none; margin:0; padding: 0}\n",
       ".list-inline>li {display: inline-block}\n",
       ".list-inline>li:not(:last-child)::after {content: \"\\00b7\"; padding: 0 .5ex}\n",
       "</style>\n",
       "<ol class=list-inline><li>9</li><li>5</li><li>4</li><li>3</li><li>0</li></ol>\n"
      ],
      "text/latex": [
       "\\begin{enumerate*}\n",
       "\\item 9\n",
       "\\item 5\n",
       "\\item 4\n",
       "\\item 3\n",
       "\\item 0\n",
       "\\end{enumerate*}\n"
      ],
      "text/markdown": [
       "1. 9\n",
       "2. 5\n",
       "3. 4\n",
       "4. 3\n",
       "5. 0\n",
       "\n",
       "\n"
      ],
      "text/plain": [
       "[1] 9 5 4 3 0"
      ]
     },
     "metadata": {},
     "output_type": "display_data"
    }
   ],
   "source": [
    "#Set random seed\n",
    "set.seed(1234)\n",
    "#Randomly sample 5 of these numbers\n",
    "sample(x = numb_vec, size = 5)\n",
    "#Reset random seed\n",
    "set.seed(NULL)"
   ]
  },
  {
   "cell_type": "code",
   "execution_count": 8,
   "id": "d4c91e04",
   "metadata": {},
   "outputs": [
    {
     "data": {
      "text/html": [
       "<style>\n",
       ".list-inline {list-style: none; margin:0; padding: 0}\n",
       ".list-inline>li {display: inline-block}\n",
       ".list-inline>li:not(:last-child)::after {content: \"\\00b7\"; padding: 0 .5ex}\n",
       "</style>\n",
       "<ol class=list-inline><li>19</li><li>15</li><li>14</li><li>13</li><li>10</li></ol>\n"
      ],
      "text/latex": [
       "\\begin{enumerate*}\n",
       "\\item 19\n",
       "\\item 15\n",
       "\\item 14\n",
       "\\item 13\n",
       "\\item 10\n",
       "\\end{enumerate*}\n"
      ],
      "text/markdown": [
       "1. 19\n",
       "2. 15\n",
       "3. 14\n",
       "4. 13\n",
       "5. 10\n",
       "\n",
       "\n"
      ],
      "text/plain": [
       "[1] 19 15 14 13 10"
      ]
     },
     "metadata": {},
     "output_type": "display_data"
    }
   ],
   "source": [
    "#Set random seed\n",
    "set.seed(1234)\n",
    "#Create a vector containing the numbers 0 to 10\n",
    "larger_numb_vec <- 10:19\n",
    "#Randomly sample 5 of these numbers\n",
    "sample(x = larger_numb_vec, size = 5)\n",
    "#Reset random seed\n",
    "set.seed(NULL)"
   ]
  },
  {
   "cell_type": "markdown",
   "id": "5ef6ad81",
   "metadata": {},
   "source": [
    "## Random seeds practice"
   ]
  },
  {
   "cell_type": "code",
   "execution_count": 9,
   "id": "38907905",
   "metadata": {},
   "outputs": [],
   "source": [
    "second_millenium <- 1001:2000"
   ]
  },
  {
   "cell_type": "code",
   "execution_count": 10,
   "id": "cf95e1b5",
   "metadata": {},
   "outputs": [
    {
     "data": {
      "text/html": [
       "1369"
      ],
      "text/latex": [
       "1369"
      ],
      "text/markdown": [
       "1369"
      ],
      "text/plain": [
       "[1] 1369"
      ]
     },
     "metadata": {},
     "output_type": "display_data"
    }
   ],
   "source": [
    "#RSQ1\n",
    "#Set random seed\n",
    "set.seed(489)\n",
    "#Randomly sample\n",
    "first_answer <- sample(x = second_millenium, size = 10)[4]\n",
    "first_answer\n",
    "#Reset random seed\n",
    "set.seed(NULL)"
   ]
  },
  {
   "cell_type": "code",
   "execution_count": 11,
   "id": "f8ac4042",
   "metadata": {},
   "outputs": [
    {
     "data": {
      "text/html": [
       "1744"
      ],
      "text/latex": [
       "1744"
      ],
      "text/markdown": [
       "1744"
      ],
      "text/plain": [
       "[1] 1744"
      ]
     },
     "metadata": {},
     "output_type": "display_data"
    }
   ],
   "source": [
    "#RSQ2\n",
    "#Set random seed\n",
    "set.seed(first_answer)\n",
    "#Randomly sample\n",
    "second_answer <- sample(x = second_millenium, size = 24)[16]\n",
    "second_answer\n",
    "#Reset random seed\n",
    "set.seed(NULL)"
   ]
  },
  {
   "cell_type": "code",
   "execution_count": 12,
   "id": "da8e0560",
   "metadata": {},
   "outputs": [
    {
     "data": {
      "text/html": [
       "1120"
      ],
      "text/latex": [
       "1120"
      ],
      "text/markdown": [
       "1120"
      ],
      "text/plain": [
       "[1] 1120"
      ]
     },
     "metadata": {},
     "output_type": "display_data"
    }
   ],
   "source": [
    "#RSQ3\n",
    "#Set random seed\n",
    "set.seed(first_answer)\n",
    "#Randomly sample\n",
    "sample(x = second_millenium, size = second_answer, replace = TRUE)[999]\n",
    "#Reset random seed\n",
    "set.seed(NULL)"
   ]
  }
 ],
 "metadata": {
  "kernelspec": {
   "display_name": "R",
   "language": "R",
   "name": "ir"
  },
  "language_info": {
   "codemirror_mode": "r",
   "file_extension": ".r",
   "mimetype": "text/x-r-source",
   "name": "R",
   "pygments_lexer": "r",
   "version": "4.2.3"
  }
 },
 "nbformat": 4,
 "nbformat_minor": 5
}
