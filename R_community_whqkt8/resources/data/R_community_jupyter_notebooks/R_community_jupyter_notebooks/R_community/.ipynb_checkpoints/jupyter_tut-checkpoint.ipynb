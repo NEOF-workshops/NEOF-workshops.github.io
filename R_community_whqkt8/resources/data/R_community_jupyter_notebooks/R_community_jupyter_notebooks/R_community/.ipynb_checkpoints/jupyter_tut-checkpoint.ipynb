{
 "cells": [
  {
   "cell_type": "markdown",
   "id": "5a489a48",
   "metadata": {},
   "source": [
    "# Tutorial"
   ]
  },
  {
   "cell_type": "code",
   "execution_count": 1,
   "id": "8db789bb",
   "metadata": {},
   "outputs": [
    {
     "data": {
      "text/html": [
       "2"
      ],
      "text/latex": [
       "2"
      ],
      "text/markdown": [
       "2"
      ],
      "text/plain": [
       "[1] 2"
      ]
     },
     "metadata": {},
     "output_type": "display_data"
    },
    {
     "data": {
      "text/html": [
       "-1"
      ],
      "text/latex": [
       "-1"
      ],
      "text/markdown": [
       "-1"
      ],
      "text/plain": [
       "[1] -1"
      ]
     },
     "metadata": {},
     "output_type": "display_data"
    }
   ],
   "source": [
    "1+1\n",
    "2-3"
   ]
  },
  {
   "cell_type": "code",
   "execution_count": 2,
   "id": "862df892",
   "metadata": {},
   "outputs": [],
   "source": [
    "num_1 <- 3\n",
    "num_2 <- 10"
   ]
  },
  {
   "cell_type": "code",
   "execution_count": 3,
   "id": "c66a5c9b",
   "metadata": {},
   "outputs": [
    {
     "data": {
      "text/html": [
       "30"
      ],
      "text/latex": [
       "30"
      ],
      "text/markdown": [
       "30"
      ],
      "text/plain": [
       "[1] 30"
      ]
     },
     "metadata": {},
     "output_type": "display_data"
    }
   ],
   "source": [
    "num_1 * num_2"
   ]
  }
 ],
 "metadata": {
  "kernelspec": {
   "display_name": "R",
   "language": "R",
   "name": "ir"
  },
  "language_info": {
   "codemirror_mode": "r",
   "file_extension": ".r",
   "mimetype": "text/x-r-source",
   "name": "R",
   "pygments_lexer": "r",
   "version": "4.2.2"
  }
 },
 "nbformat": 4,
 "nbformat_minor": 5
}
