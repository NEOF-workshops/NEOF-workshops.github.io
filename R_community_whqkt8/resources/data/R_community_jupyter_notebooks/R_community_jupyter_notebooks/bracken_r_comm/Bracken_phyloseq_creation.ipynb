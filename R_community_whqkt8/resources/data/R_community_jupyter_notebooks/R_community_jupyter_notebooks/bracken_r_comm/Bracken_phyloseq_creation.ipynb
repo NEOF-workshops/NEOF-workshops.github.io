{
 "cells": [
  {
   "cell_type": "markdown",
   "id": "abf9e848",
   "metadata": {},
   "source": [
    "# Importing bracken data"
   ]
  },
  {
   "cell_type": "code",
   "execution_count": 1,
   "id": "a81dacc9",
   "metadata": {},
   "outputs": [
    {
     "name": "stderr",
     "output_type": "stream",
     "text": [
      "Loading required package: ggplot2\n",
      "\n",
      "\n",
      "microbiome R package (microbiome.github.com)\n",
      "    \n",
      "\n",
      "\n",
      " Copyright (C) 2011-2022 Leo Lahti, \n",
      "    Sudarshan Shetty et al. <microbiome.github.io>\n",
      "\n",
      "\n",
      "\n",
      "Attaching package: ‘microbiome’\n",
      "\n",
      "\n",
      "The following object is masked from ‘package:ggplot2’:\n",
      "\n",
      "    alpha\n",
      "\n",
      "\n",
      "The following object is masked from ‘package:base’:\n",
      "\n",
      "    transform\n",
      "\n",
      "\n"
     ]
    }
   ],
   "source": [
    "#Libraries\n",
    "library(\"phyloseq\")\n",
    "library(\"microbiome\")"
   ]
  },
  {
   "cell_type": "code",
   "execution_count": 2,
   "id": "4ad52cbe",
   "metadata": {},
   "outputs": [],
   "source": [
    "#Read in otu table from biom\n",
    "pseq <- phyloseq::import_biom(\"./KW.biom\")"
   ]
  },
  {
   "cell_type": "code",
   "execution_count": 3,
   "id": "f7fb1b61",
   "metadata": {},
   "outputs": [
    {
     "data": {
      "text/html": [
       "<table class=\"dataframe\">\n",
       "<caption>A data.frame: 6 × 1</caption>\n",
       "<thead>\n",
       "\t<tr><th></th><th scope=col>diet</th></tr>\n",
       "\t<tr><th></th><th scope=col>&lt;chr&gt;</th></tr>\n",
       "</thead>\n",
       "<tbody>\n",
       "\t<tr><th scope=row>K10</th><td>K</td></tr>\n",
       "\t<tr><th scope=row>K11</th><td>K</td></tr>\n",
       "\t<tr><th scope=row>K12</th><td>K</td></tr>\n",
       "\t<tr><th scope=row>K1</th><td>K</td></tr>\n",
       "\t<tr><th scope=row>K2</th><td>K</td></tr>\n",
       "\t<tr><th scope=row>K3</th><td>K</td></tr>\n",
       "</tbody>\n",
       "</table>\n"
      ],
      "text/latex": [
       "A data.frame: 6 × 1\n",
       "\\begin{tabular}{r|l}\n",
       "  & diet\\\\\n",
       "  & <chr>\\\\\n",
       "\\hline\n",
       "\tK10 & K\\\\\n",
       "\tK11 & K\\\\\n",
       "\tK12 & K\\\\\n",
       "\tK1 & K\\\\\n",
       "\tK2 & K\\\\\n",
       "\tK3 & K\\\\\n",
       "\\end{tabular}\n"
      ],
      "text/markdown": [
       "\n",
       "A data.frame: 6 × 1\n",
       "\n",
       "| <!--/--> | diet &lt;chr&gt; |\n",
       "|---|---|\n",
       "| K10 | K |\n",
       "| K11 | K |\n",
       "| K12 | K |\n",
       "| K1 | K |\n",
       "| K2 | K |\n",
       "| K3 | K |\n",
       "\n"
      ],
      "text/plain": [
       "    diet\n",
       "K10 K   \n",
       "K11 K   \n",
       "K12 K   \n",
       "K1  K   \n",
       "K2  K   \n",
       "K3  K   "
      ]
     },
     "metadata": {},
     "output_type": "display_data"
    }
   ],
   "source": [
    "#Read in metadata\n",
    "metadf <- read.csv(\"KW_metadata.tsv\", sep=\"\\t\", check.names=FALSE, row.names=1)\n",
    "#Check metadf\n",
    "head(metadf)\n",
    "#Assign sample data\n",
    "phyloseq::sample_data(pseq) <- metadf"
   ]
  },
  {
   "cell_type": "code",
   "execution_count": 4,
   "id": "ca3a1688",
   "metadata": {},
   "outputs": [
    {
     "name": "stderr",
     "output_type": "stream",
     "text": [
      "Compositional = NO2\n",
      "\n",
      "1] Min. number of reads = 23197922] Max. number of reads = 159815933] Total number of reads = 2051450684] Average number of reads = 8547711.166666675] Median number of reads = 83527307] Sparsity = 0.5237979433018346] Any OTU sum to 1 or less? NO8] Number of singletons = 09] Percent of OTUs that are singletons \n",
      "        (i.e. exactly one read detected across all samples)010] Number of sample variables are: 1diet2\n",
      "\n"
     ]
    },
    {
     "data": {
      "text/html": [
       "<ol>\n",
       "\t<li>'1] Min. number of reads = 2319792'</li>\n",
       "\t<li>'2] Max. number of reads = 15981593'</li>\n",
       "\t<li>'3] Total number of reads = 205145068'</li>\n",
       "\t<li>'4] Average number of reads = 8547711.16666667'</li>\n",
       "\t<li>'5] Median number of reads = 8352730'</li>\n",
       "\t<li>'7] Sparsity = 0.523797943301834'</li>\n",
       "\t<li>'6] Any OTU sum to 1 or less? NO'</li>\n",
       "\t<li>'8] Number of singletons = 0'</li>\n",
       "\t<li><span style=white-space:pre-wrap>'9] Percent of OTUs that are singletons \\n        (i.e. exactly one read detected across all samples)0'</span></li>\n",
       "\t<li>'10] Number of sample variables are: 1'</li>\n",
       "\t<li>'diet'</li>\n",
       "</ol>\n"
      ],
      "text/latex": [
       "\\begin{enumerate}\n",
       "\\item '1{]} Min. number of reads = 2319792'\n",
       "\\item '2{]} Max. number of reads = 15981593'\n",
       "\\item '3{]} Total number of reads = 205145068'\n",
       "\\item '4{]} Average number of reads = 8547711.16666667'\n",
       "\\item '5{]} Median number of reads = 8352730'\n",
       "\\item '7{]} Sparsity = 0.523797943301834'\n",
       "\\item '6{]} Any OTU sum to 1 or less? NO'\n",
       "\\item '8{]} Number of singletons = 0'\n",
       "\\item '9{]} Percent of OTUs that are singletons \\textbackslash{}n        (i.e. exactly one read detected across all samples)0'\n",
       "\\item '10{]} Number of sample variables are: 1'\n",
       "\\item 'diet'\n",
       "\\end{enumerate}\n"
      ],
      "text/markdown": [
       "1. '1] Min. number of reads = 2319792'\n",
       "2. '2] Max. number of reads = 15981593'\n",
       "3. '3] Total number of reads = 205145068'\n",
       "4. '4] Average number of reads = 8547711.16666667'\n",
       "5. '5] Median number of reads = 8352730'\n",
       "6. '7] Sparsity = 0.523797943301834'\n",
       "7. '6] Any OTU sum to 1 or less? NO'\n",
       "8. '8] Number of singletons = 0'\n",
       "9. <span style=white-space:pre-wrap>'9] Percent of OTUs that are singletons \\n        (i.e. exactly one read detected across all samples)0'</span>\n",
       "10. '10] Number of sample variables are: 1'\n",
       "11. 'diet'\n",
       "\n",
       "\n"
      ],
      "text/plain": [
       "[[1]]\n",
       "[1] \"1] Min. number of reads = 2319792\"\n",
       "\n",
       "[[2]]\n",
       "[1] \"2] Max. number of reads = 15981593\"\n",
       "\n",
       "[[3]]\n",
       "[1] \"3] Total number of reads = 205145068\"\n",
       "\n",
       "[[4]]\n",
       "[1] \"4] Average number of reads = 8547711.16666667\"\n",
       "\n",
       "[[5]]\n",
       "[1] \"5] Median number of reads = 8352730\"\n",
       "\n",
       "[[6]]\n",
       "[1] \"7] Sparsity = 0.523797943301834\"\n",
       "\n",
       "[[7]]\n",
       "[1] \"6] Any OTU sum to 1 or less? NO\"\n",
       "\n",
       "[[8]]\n",
       "[1] \"8] Number of singletons = 0\"\n",
       "\n",
       "[[9]]\n",
       "[1] \"9] Percent of OTUs that are singletons \\n        (i.e. exactly one read detected across all samples)0\"\n",
       "\n",
       "[[10]]\n",
       "[1] \"10] Number of sample variables are: 1\"\n",
       "\n",
       "[[11]]\n",
       "[1] \"diet\"\n"
      ]
     },
     "metadata": {},
     "output_type": "display_data"
    }
   ],
   "source": [
    "#Summarise\n",
    "microbiome::summarize_phyloseq(pseq)"
   ]
  },
  {
   "cell_type": "code",
   "execution_count": 5,
   "id": "e7d1fc05",
   "metadata": {},
   "outputs": [
    {
     "data": {
      "text/html": [
       "<table class=\"dataframe\">\n",
       "<caption>A taxonomyTable: 6 × 7 of type chr</caption>\n",
       "<thead>\n",
       "\t<tr><th></th><th scope=col>Rank1</th><th scope=col>Rank2</th><th scope=col>Rank3</th><th scope=col>Rank4</th><th scope=col>Rank5</th><th scope=col>Rank6</th><th scope=col>Rank7</th></tr>\n",
       "</thead>\n",
       "<tbody>\n",
       "\t<tr><th scope=row>357276</th><td>k__Bacteria</td><td>p__Bacteroidetes</td><td>c__Bacteroidia</td><td>o__Bacteroidales</td><td>f__Bacteroidaceae</td><td>g__Bacteroides</td><td>s__dorei     </td></tr>\n",
       "\t<tr><th scope=row>47678</th><td>k__Bacteria</td><td>p__Bacteroidetes</td><td>c__Bacteroidia</td><td>o__Bacteroidales</td><td>f__Bacteroidaceae</td><td>g__Bacteroides</td><td>s__caccae    </td></tr>\n",
       "\t<tr><th scope=row>821</th><td>k__Bacteria</td><td>p__Bacteroidetes</td><td>c__Bacteroidia</td><td>o__Bacteroidales</td><td>f__Bacteroidaceae</td><td>g__Bacteroides</td><td>s__vulgatus  </td></tr>\n",
       "\t<tr><th scope=row>28116</th><td>k__Bacteria</td><td>p__Bacteroidetes</td><td>c__Bacteroidia</td><td>o__Bacteroidales</td><td>f__Bacteroidaceae</td><td>g__Bacteroides</td><td>s__ovatus    </td></tr>\n",
       "\t<tr><th scope=row>1796613</th><td>k__Bacteria</td><td>p__Bacteroidetes</td><td>c__Bacteroidia</td><td>o__Bacteroidales</td><td>f__Bacteroidaceae</td><td>g__Bacteroides</td><td>s__caecimuris</td></tr>\n",
       "\t<tr><th scope=row>817</th><td>k__Bacteria</td><td>p__Bacteroidetes</td><td>c__Bacteroidia</td><td>o__Bacteroidales</td><td>f__Bacteroidaceae</td><td>g__Bacteroides</td><td>s__fragilis  </td></tr>\n",
       "</tbody>\n",
       "</table>\n"
      ],
      "text/latex": [
       "A taxonomyTable: 6 × 7 of type chr\n",
       "\\begin{tabular}{r|lllllll}\n",
       "  & Rank1 & Rank2 & Rank3 & Rank4 & Rank5 & Rank6 & Rank7\\\\\n",
       "\\hline\n",
       "\t357276 & k\\_\\_Bacteria & p\\_\\_Bacteroidetes & c\\_\\_Bacteroidia & o\\_\\_Bacteroidales & f\\_\\_Bacteroidaceae & g\\_\\_Bacteroides & s\\_\\_dorei     \\\\\n",
       "\t47678 & k\\_\\_Bacteria & p\\_\\_Bacteroidetes & c\\_\\_Bacteroidia & o\\_\\_Bacteroidales & f\\_\\_Bacteroidaceae & g\\_\\_Bacteroides & s\\_\\_caccae    \\\\\n",
       "\t821 & k\\_\\_Bacteria & p\\_\\_Bacteroidetes & c\\_\\_Bacteroidia & o\\_\\_Bacteroidales & f\\_\\_Bacteroidaceae & g\\_\\_Bacteroides & s\\_\\_vulgatus  \\\\\n",
       "\t28116 & k\\_\\_Bacteria & p\\_\\_Bacteroidetes & c\\_\\_Bacteroidia & o\\_\\_Bacteroidales & f\\_\\_Bacteroidaceae & g\\_\\_Bacteroides & s\\_\\_ovatus    \\\\\n",
       "\t1796613 & k\\_\\_Bacteria & p\\_\\_Bacteroidetes & c\\_\\_Bacteroidia & o\\_\\_Bacteroidales & f\\_\\_Bacteroidaceae & g\\_\\_Bacteroides & s\\_\\_caecimuris\\\\\n",
       "\t817 & k\\_\\_Bacteria & p\\_\\_Bacteroidetes & c\\_\\_Bacteroidia & o\\_\\_Bacteroidales & f\\_\\_Bacteroidaceae & g\\_\\_Bacteroides & s\\_\\_fragilis  \\\\\n",
       "\\end{tabular}\n"
      ],
      "text/markdown": [
       "\n",
       "A taxonomyTable: 6 × 7 of type chr\n",
       "\n",
       "| <!--/--> | Rank1 | Rank2 | Rank3 | Rank4 | Rank5 | Rank6 | Rank7 |\n",
       "|---|---|---|---|---|---|---|---|\n",
       "| 357276 | k__Bacteria | p__Bacteroidetes | c__Bacteroidia | o__Bacteroidales | f__Bacteroidaceae | g__Bacteroides | s__dorei      |\n",
       "| 47678 | k__Bacteria | p__Bacteroidetes | c__Bacteroidia | o__Bacteroidales | f__Bacteroidaceae | g__Bacteroides | s__caccae     |\n",
       "| 821 | k__Bacteria | p__Bacteroidetes | c__Bacteroidia | o__Bacteroidales | f__Bacteroidaceae | g__Bacteroides | s__vulgatus   |\n",
       "| 28116 | k__Bacteria | p__Bacteroidetes | c__Bacteroidia | o__Bacteroidales | f__Bacteroidaceae | g__Bacteroides | s__ovatus     |\n",
       "| 1796613 | k__Bacteria | p__Bacteroidetes | c__Bacteroidia | o__Bacteroidales | f__Bacteroidaceae | g__Bacteroides | s__caecimuris |\n",
       "| 817 | k__Bacteria | p__Bacteroidetes | c__Bacteroidia | o__Bacteroidales | f__Bacteroidaceae | g__Bacteroides | s__fragilis   |\n",
       "\n"
      ],
      "text/plain": [
       "        Rank1       Rank2            Rank3          Rank4           \n",
       "357276  k__Bacteria p__Bacteroidetes c__Bacteroidia o__Bacteroidales\n",
       "47678   k__Bacteria p__Bacteroidetes c__Bacteroidia o__Bacteroidales\n",
       "821     k__Bacteria p__Bacteroidetes c__Bacteroidia o__Bacteroidales\n",
       "28116   k__Bacteria p__Bacteroidetes c__Bacteroidia o__Bacteroidales\n",
       "1796613 k__Bacteria p__Bacteroidetes c__Bacteroidia o__Bacteroidales\n",
       "817     k__Bacteria p__Bacteroidetes c__Bacteroidia o__Bacteroidales\n",
       "        Rank5             Rank6          Rank7        \n",
       "357276  f__Bacteroidaceae g__Bacteroides s__dorei     \n",
       "47678   f__Bacteroidaceae g__Bacteroides s__caccae    \n",
       "821     f__Bacteroidaceae g__Bacteroides s__vulgatus  \n",
       "28116   f__Bacteroidaceae g__Bacteroides s__ovatus    \n",
       "1796613 f__Bacteroidaceae g__Bacteroides s__caecimuris\n",
       "817     f__Bacteroidaceae g__Bacteroides s__fragilis  "
      ]
     },
     "metadata": {},
     "output_type": "display_data"
    }
   ],
   "source": [
    "#Check taxonomy\n",
    "head(phyloseq::tax_table(pseq))"
   ]
  },
  {
   "cell_type": "code",
   "execution_count": 6,
   "id": "1ef06363",
   "metadata": {},
   "outputs": [
    {
     "data": {
      "text/html": [
       "<table class=\"dataframe\">\n",
       "<caption>A taxonomyTable: 6 × 7 of type chr</caption>\n",
       "<thead>\n",
       "\t<tr><th></th><th scope=col>Kingdom</th><th scope=col>Phylum</th><th scope=col>Class</th><th scope=col>Order</th><th scope=col>Family</th><th scope=col>Genus</th><th scope=col>Species</th></tr>\n",
       "</thead>\n",
       "<tbody>\n",
       "\t<tr><th scope=row>357276</th><td>k__Bacteria</td><td>p__Bacteroidetes</td><td>c__Bacteroidia</td><td>o__Bacteroidales</td><td>f__Bacteroidaceae</td><td>g__Bacteroides</td><td>s__dorei     </td></tr>\n",
       "\t<tr><th scope=row>47678</th><td>k__Bacteria</td><td>p__Bacteroidetes</td><td>c__Bacteroidia</td><td>o__Bacteroidales</td><td>f__Bacteroidaceae</td><td>g__Bacteroides</td><td>s__caccae    </td></tr>\n",
       "\t<tr><th scope=row>821</th><td>k__Bacteria</td><td>p__Bacteroidetes</td><td>c__Bacteroidia</td><td>o__Bacteroidales</td><td>f__Bacteroidaceae</td><td>g__Bacteroides</td><td>s__vulgatus  </td></tr>\n",
       "\t<tr><th scope=row>28116</th><td>k__Bacteria</td><td>p__Bacteroidetes</td><td>c__Bacteroidia</td><td>o__Bacteroidales</td><td>f__Bacteroidaceae</td><td>g__Bacteroides</td><td>s__ovatus    </td></tr>\n",
       "\t<tr><th scope=row>1796613</th><td>k__Bacteria</td><td>p__Bacteroidetes</td><td>c__Bacteroidia</td><td>o__Bacteroidales</td><td>f__Bacteroidaceae</td><td>g__Bacteroides</td><td>s__caecimuris</td></tr>\n",
       "\t<tr><th scope=row>817</th><td>k__Bacteria</td><td>p__Bacteroidetes</td><td>c__Bacteroidia</td><td>o__Bacteroidales</td><td>f__Bacteroidaceae</td><td>g__Bacteroides</td><td>s__fragilis  </td></tr>\n",
       "</tbody>\n",
       "</table>\n"
      ],
      "text/latex": [
       "A taxonomyTable: 6 × 7 of type chr\n",
       "\\begin{tabular}{r|lllllll}\n",
       "  & Kingdom & Phylum & Class & Order & Family & Genus & Species\\\\\n",
       "\\hline\n",
       "\t357276 & k\\_\\_Bacteria & p\\_\\_Bacteroidetes & c\\_\\_Bacteroidia & o\\_\\_Bacteroidales & f\\_\\_Bacteroidaceae & g\\_\\_Bacteroides & s\\_\\_dorei     \\\\\n",
       "\t47678 & k\\_\\_Bacteria & p\\_\\_Bacteroidetes & c\\_\\_Bacteroidia & o\\_\\_Bacteroidales & f\\_\\_Bacteroidaceae & g\\_\\_Bacteroides & s\\_\\_caccae    \\\\\n",
       "\t821 & k\\_\\_Bacteria & p\\_\\_Bacteroidetes & c\\_\\_Bacteroidia & o\\_\\_Bacteroidales & f\\_\\_Bacteroidaceae & g\\_\\_Bacteroides & s\\_\\_vulgatus  \\\\\n",
       "\t28116 & k\\_\\_Bacteria & p\\_\\_Bacteroidetes & c\\_\\_Bacteroidia & o\\_\\_Bacteroidales & f\\_\\_Bacteroidaceae & g\\_\\_Bacteroides & s\\_\\_ovatus    \\\\\n",
       "\t1796613 & k\\_\\_Bacteria & p\\_\\_Bacteroidetes & c\\_\\_Bacteroidia & o\\_\\_Bacteroidales & f\\_\\_Bacteroidaceae & g\\_\\_Bacteroides & s\\_\\_caecimuris\\\\\n",
       "\t817 & k\\_\\_Bacteria & p\\_\\_Bacteroidetes & c\\_\\_Bacteroidia & o\\_\\_Bacteroidales & f\\_\\_Bacteroidaceae & g\\_\\_Bacteroides & s\\_\\_fragilis  \\\\\n",
       "\\end{tabular}\n"
      ],
      "text/markdown": [
       "\n",
       "A taxonomyTable: 6 × 7 of type chr\n",
       "\n",
       "| <!--/--> | Kingdom | Phylum | Class | Order | Family | Genus | Species |\n",
       "|---|---|---|---|---|---|---|---|\n",
       "| 357276 | k__Bacteria | p__Bacteroidetes | c__Bacteroidia | o__Bacteroidales | f__Bacteroidaceae | g__Bacteroides | s__dorei      |\n",
       "| 47678 | k__Bacteria | p__Bacteroidetes | c__Bacteroidia | o__Bacteroidales | f__Bacteroidaceae | g__Bacteroides | s__caccae     |\n",
       "| 821 | k__Bacteria | p__Bacteroidetes | c__Bacteroidia | o__Bacteroidales | f__Bacteroidaceae | g__Bacteroides | s__vulgatus   |\n",
       "| 28116 | k__Bacteria | p__Bacteroidetes | c__Bacteroidia | o__Bacteroidales | f__Bacteroidaceae | g__Bacteroides | s__ovatus     |\n",
       "| 1796613 | k__Bacteria | p__Bacteroidetes | c__Bacteroidia | o__Bacteroidales | f__Bacteroidaceae | g__Bacteroides | s__caecimuris |\n",
       "| 817 | k__Bacteria | p__Bacteroidetes | c__Bacteroidia | o__Bacteroidales | f__Bacteroidaceae | g__Bacteroides | s__fragilis   |\n",
       "\n"
      ],
      "text/plain": [
       "        Kingdom     Phylum           Class          Order           \n",
       "357276  k__Bacteria p__Bacteroidetes c__Bacteroidia o__Bacteroidales\n",
       "47678   k__Bacteria p__Bacteroidetes c__Bacteroidia o__Bacteroidales\n",
       "821     k__Bacteria p__Bacteroidetes c__Bacteroidia o__Bacteroidales\n",
       "28116   k__Bacteria p__Bacteroidetes c__Bacteroidia o__Bacteroidales\n",
       "1796613 k__Bacteria p__Bacteroidetes c__Bacteroidia o__Bacteroidales\n",
       "817     k__Bacteria p__Bacteroidetes c__Bacteroidia o__Bacteroidales\n",
       "        Family            Genus          Species      \n",
       "357276  f__Bacteroidaceae g__Bacteroides s__dorei     \n",
       "47678   f__Bacteroidaceae g__Bacteroides s__caccae    \n",
       "821     f__Bacteroidaceae g__Bacteroides s__vulgatus  \n",
       "28116   f__Bacteroidaceae g__Bacteroides s__ovatus    \n",
       "1796613 f__Bacteroidaceae g__Bacteroides s__caecimuris\n",
       "817     f__Bacteroidaceae g__Bacteroides s__fragilis  "
      ]
     },
     "metadata": {},
     "output_type": "display_data"
    }
   ],
   "source": [
    "#Change tax column names\n",
    "colnames(phyloseq::tax_table(pseq)) <- c(\"Kingdom\",\"Phylum\",\"Class\",\"Order\",\"Family\",\"Genus\",\"Species\")\n",
    "head(phyloseq::tax_table(pseq))"
   ]
  },
  {
   "cell_type": "code",
   "execution_count": 7,
   "id": "bc4907db",
   "metadata": {},
   "outputs": [
    {
     "name": "stderr",
     "output_type": "stream",
     "text": [
      "Compositional = NO2\n",
      "\n",
      "1] Min. number of reads = 23197922] Max. number of reads = 159815933] Total number of reads = 2051450684] Average number of reads = 8547711.166666675] Median number of reads = 83527307] Sparsity = 0.38256] Any OTU sum to 1 or less? NO8] Number of singletons = 09] Percent of OTUs that are singletons \n",
      "        (i.e. exactly one read detected across all samples)010] Number of sample variables are: 1diet2\n",
      "\n"
     ]
    },
    {
     "data": {
      "text/html": [
       "<ol>\n",
       "\t<li>'1] Min. number of reads = 2319792'</li>\n",
       "\t<li>'2] Max. number of reads = 15981593'</li>\n",
       "\t<li>'3] Total number of reads = 205145068'</li>\n",
       "\t<li>'4] Average number of reads = 8547711.16666667'</li>\n",
       "\t<li>'5] Median number of reads = 8352730'</li>\n",
       "\t<li>'7] Sparsity = 0.3825'</li>\n",
       "\t<li>'6] Any OTU sum to 1 or less? NO'</li>\n",
       "\t<li>'8] Number of singletons = 0'</li>\n",
       "\t<li><span style=white-space:pre-wrap>'9] Percent of OTUs that are singletons \\n        (i.e. exactly one read detected across all samples)0'</span></li>\n",
       "\t<li>'10] Number of sample variables are: 1'</li>\n",
       "\t<li>'diet'</li>\n",
       "</ol>\n"
      ],
      "text/latex": [
       "\\begin{enumerate}\n",
       "\\item '1{]} Min. number of reads = 2319792'\n",
       "\\item '2{]} Max. number of reads = 15981593'\n",
       "\\item '3{]} Total number of reads = 205145068'\n",
       "\\item '4{]} Average number of reads = 8547711.16666667'\n",
       "\\item '5{]} Median number of reads = 8352730'\n",
       "\\item '7{]} Sparsity = 0.3825'\n",
       "\\item '6{]} Any OTU sum to 1 or less? NO'\n",
       "\\item '8{]} Number of singletons = 0'\n",
       "\\item '9{]} Percent of OTUs that are singletons \\textbackslash{}n        (i.e. exactly one read detected across all samples)0'\n",
       "\\item '10{]} Number of sample variables are: 1'\n",
       "\\item 'diet'\n",
       "\\end{enumerate}\n"
      ],
      "text/markdown": [
       "1. '1] Min. number of reads = 2319792'\n",
       "2. '2] Max. number of reads = 15981593'\n",
       "3. '3] Total number of reads = 205145068'\n",
       "4. '4] Average number of reads = 8547711.16666667'\n",
       "5. '5] Median number of reads = 8352730'\n",
       "6. '7] Sparsity = 0.3825'\n",
       "7. '6] Any OTU sum to 1 or less? NO'\n",
       "8. '8] Number of singletons = 0'\n",
       "9. <span style=white-space:pre-wrap>'9] Percent of OTUs that are singletons \\n        (i.e. exactly one read detected across all samples)0'</span>\n",
       "10. '10] Number of sample variables are: 1'\n",
       "11. 'diet'\n",
       "\n",
       "\n"
      ],
      "text/plain": [
       "[[1]]\n",
       "[1] \"1] Min. number of reads = 2319792\"\n",
       "\n",
       "[[2]]\n",
       "[1] \"2] Max. number of reads = 15981593\"\n",
       "\n",
       "[[3]]\n",
       "[1] \"3] Total number of reads = 205145068\"\n",
       "\n",
       "[[4]]\n",
       "[1] \"4] Average number of reads = 8547711.16666667\"\n",
       "\n",
       "[[5]]\n",
       "[1] \"5] Median number of reads = 8352730\"\n",
       "\n",
       "[[6]]\n",
       "[1] \"7] Sparsity = 0.3825\"\n",
       "\n",
       "[[7]]\n",
       "[1] \"6] Any OTU sum to 1 or less? NO\"\n",
       "\n",
       "[[8]]\n",
       "[1] \"8] Number of singletons = 0\"\n",
       "\n",
       "[[9]]\n",
       "[1] \"9] Percent of OTUs that are singletons \\n        (i.e. exactly one read detected across all samples)0\"\n",
       "\n",
       "[[10]]\n",
       "[1] \"10] Number of sample variables are: 1\"\n",
       "\n",
       "[[11]]\n",
       "[1] \"diet\"\n"
      ]
     },
     "metadata": {},
     "output_type": "display_data"
    },
    {
     "data": {
      "text/html": [
       "'Genera: 1250'"
      ],
      "text/latex": [
       "'Genera: 1250'"
      ],
      "text/markdown": [
       "'Genera: 1250'"
      ],
      "text/plain": [
       "[1] \"Genera: 1250\""
      ]
     },
     "metadata": {},
     "output_type": "display_data"
    }
   ],
   "source": [
    "#Aggregate to species\n",
    "genus_pseq <- microbiome::aggregate_taxa(pseq, \"Genus\", verbose = FALSE)\n",
    "#Summarise\n",
    "microbiome::summarize_phyloseq(genus_pseq)\n",
    "#Check number of genera\n",
    "paste0(\"Genera: \", nrow(phyloseq::otu_table(genus_pseq)))"
   ]
  }
 ],
 "metadata": {
  "kernelspec": {
   "display_name": "R",
   "language": "R",
   "name": "ir"
  },
  "language_info": {
   "codemirror_mode": "r",
   "file_extension": ".r",
   "mimetype": "text/x-r-source",
   "name": "R",
   "pygments_lexer": "r",
   "version": "4.2.3"
  }
 },
 "nbformat": 4,
 "nbformat_minor": 5
}
